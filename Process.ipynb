{
 "cells": [
  {
   "cell_type": "markdown",
   "metadata": {},
   "source": [
    "# Cyclistic Bikes"
   ]
  },
  {
   "cell_type": "markdown",
   "metadata": {},
   "source": [
    "### Ask"
   ]
  },
  {
   "cell_type": "markdown",
   "metadata": {},
   "source": [
    "My task is to find correlations between the annual members and casual members in how and when they use their bikes.\n",
    "\n",
    "By doing this, we can understand why casual riders would buy a membership so that we can convert them into annual members."
   ]
  },
  {
   "cell_type": "markdown",
   "metadata": {},
   "source": [
    "### Prepare"
   ]
  },
  {
   "cell_type": "markdown",
   "metadata": {},
   "source": [
    "I used 12 months of the previous year (2022) of Cyclistic trip data.\n",
    "\n",
    "All of them include ride_id, date, and station information up to 12 columns."
   ]
  },
  {
   "cell_type": "markdown",
   "metadata": {},
   "source": [
    "### Process"
   ]
  },
  {
   "cell_type": "markdown",
   "metadata": {},
   "source": [
    "First of all, I imported __pandas__ and __sqlite3__ libraries for the data process.\n",
    "\n",
    "Next, I dropped the null values and converted the *started_at* and *ended_at* features into Date Time.\n",
    "\n",
    "I created features *ride_length* and *day_of_week*.\n",
    "\n",
    "I cleaned the data frames by dropping the rows having ride length zero and interchanging the incorrect date values.\n",
    "\n",
    "I created SQL tables for each month using sqlite3.\n",
    "\n",
    "Finally, I grouped all the months by seasons."
   ]
  },
  {
   "cell_type": "markdown",
   "metadata": {},
   "source": [
    "### Analyse"
   ]
  },
  {
   "cell_type": "markdown",
   "metadata": {},
   "source": [
    "- Casual members prefer to ride on weekends.\n",
    "\n",
    "- Annual members generally prefer to ride on weekdays."
   ]
  },
  {
   "cell_type": "markdown",
   "metadata": {},
   "source": [
    "- Casual members generally prefer riding in Summer.\n",
    "\n",
    "- Annual members don’t have a preference."
   ]
  },
  {
   "cell_type": "markdown",
   "metadata": {},
   "source": [
    "- None of the annual members use docked bikes.\n",
    "\n",
    "- Annual members generally use classic bikes."
   ]
  },
  {
   "cell_type": "markdown",
   "metadata": {},
   "source": [
    "- The average ride length of casual members is generally higher than that of annual members."
   ]
  },
  {
   "cell_type": "markdown",
   "metadata": {},
   "source": [
    "### Share"
   ]
  },
  {
   "cell_type": "markdown",
   "metadata": {},
   "source": [
    "![caption](Visualisations\\output1.png)"
   ]
  },
  {
   "cell_type": "markdown",
   "metadata": {},
   "source": [
    "![caption](Visualisations\\output2.png)"
   ]
  },
  {
   "cell_type": "markdown",
   "metadata": {},
   "source": [
    "![caption](Visualisations\\output3.png)"
   ]
  },
  {
   "cell_type": "markdown",
   "metadata": {},
   "source": [
    "![caption](Visualisations\\output4.png)"
   ]
  },
  {
   "cell_type": "markdown",
   "metadata": {},
   "source": [
    "### Act"
   ]
  },
  {
   "cell_type": "markdown",
   "metadata": {},
   "source": [
    "- We should find better alternative bike types to docked bikes.\n",
    "\n",
    "- We should investigate further why casual members generally prefer riding on weekends."
   ]
  },
  {
   "cell_type": "markdown",
   "metadata": {},
   "source": [
    "- We may organise events or other projects for annual members in summer to attract casual members."
   ]
  }
 ],
 "metadata": {
  "kernelspec": {
   "display_name": "Python 3",
   "language": "python",
   "name": "python3"
  },
  "language_info": {
   "name": "python",
   "version": "3.11.3"
  },
  "orig_nbformat": 4
 },
 "nbformat": 4,
 "nbformat_minor": 2
}
